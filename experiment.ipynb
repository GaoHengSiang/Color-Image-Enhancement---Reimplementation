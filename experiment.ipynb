{
 "cells": [
  {
   "cell_type": "code",
   "execution_count": 1,
   "metadata": {},
   "outputs": [],
   "source": [
    "import cv2 \n",
    "import numpy as np \n",
    "import matplotlib.pyplot as plt "
   ]
  },
  {
   "cell_type": "code",
   "execution_count": 2,
   "metadata": {},
   "outputs": [],
   "source": [
    "# Device Characteristics =================================\n",
    "#full light\n",
    "gamma_rf, gamma_gf, gamma_bf = 2.4767, 2.4286, 2.3792\n",
    "M_f = np.array([[95.57,  64.67,  33.01],\n",
    "                [49.49, 137.29,  14.76],\n",
    "                [ 0.44,  27.21, 169.83]])\n",
    "\n",
    "#low light\n",
    "gamma_rl, gamma_gl, gamma_bl = 2.2212, 2.1044, 2.1835\n",
    "M_l = np.array([[4.61, 3.35, 1.78],\n",
    "                [2.48, 7.16, 0.79],\n",
    "                [0.28, 1.93, 8.93]])\n",
    "#========================================================="
   ]
  },
  {
   "cell_type": "code",
   "execution_count": 3,
   "metadata": {},
   "outputs": [],
   "source": [
    "def device_rgb_to_xyz(image, M, gamma_r, gamma_g, gamma_b) -> np.ndarray:\n",
    "    \"\"\"\n",
    "    Transforms an RGB image using the formula [x y z] = M [R^gamma_r G^gamma_g B^gamma_b].\n",
    "    \n",
    "    Args:\n",
    "        image (numpy.ndarray): Input image as a 3D numpy array (H x W x 3) in RGB format.\n",
    "\n",
    "        M (numpy.ndarray): 3x3 transformation matrix. (device characteristic)\n",
    "\n",
    "        gamma_r (float): Gamma correction for the red channel. (device characteristic)\n",
    "\n",
    "        gamma_g (float): Gamma correction for the green channel. (device characteristic)\n",
    "\n",
    "        gamma_b (float): Gamma correction for the blue channel. (device characteristic)\n",
    "\n",
    "    Returns:\n",
    "        numpy.ndarray: Transformed image (H x W x 3).\n",
    "    \"\"\"\n",
    "    # Apply gamma correction to each channel\n",
    "    image_gamma = np.zeros_like(image, dtype=np.float32)\n",
    "    h ,w, _ = image.shape\n",
    "\n",
    "    # Assert all values are in the range [0, 255]\n",
    "    assert np.all(image >= 0), \"Some values are less than 0!\"\n",
    "    assert np.all(image <= 255), \"Some values are greater than 255!\"\n",
    "\n",
    "    image_gamma[..., 0] = image[..., 0] ** gamma_r  # R^gamma_r\n",
    "    image_gamma[..., 1] = image[..., 1] ** gamma_g  # G^gamma_g\n",
    "    image_gamma[..., 2] = image[..., 2] ** gamma_b  # B^gamma_b\n",
    "\n",
    "    # Apply the matrix transformation\n",
    "    transformed = np.dot(M, image_gamma.reshape(-1, 3).T).T\n",
    "\n",
    "    # Reshape back to the original image dimensions\n",
    "    return transformed.reshape(h, w, 3)"
   ]
  },
  {
   "cell_type": "code",
   "execution_count": null,
   "metadata": {},
   "outputs": [
    {
     "name": "stdout",
     "output_type": "stream",
     "text": [
      "Image shape (H, W, C): (512, 512, 3)\n"
     ]
    }
   ],
   "source": [
    "# Read the image \n",
    "image_bgr = cv2.imread(\"./Lenna.png\")\n",
    "\n",
    "# Convert the image from BGR to RGB if it exists. \n",
    "if image_bgr is not None:\n",
    "    image_rgb = cv2.cvtColor(image_bgr, cv2.COLOR_BGR2RGB)  \n",
    "else:\n",
    "    raise FileNotFoundError(\"Image does not exist.\") \n",
    "\n",
    "# Display the image dimensions\n",
    "print(\"Image shape (H, W, C):\", image_rgb.shape)"
   ]
  },
  {
   "cell_type": "code",
   "execution_count": 8,
   "metadata": {},
   "outputs": [],
   "source": [
    "image_xyz = device_rgb_to_xyz(\n",
    "    image=image_rgb,\n",
    "    M=M_f, \n",
    "    gamma_r=gamma_rf,\n",
    "    gamma_g=gamma_gf,\n",
    "    gamma_b=gamma_bf)"
   ]
  },
  {
   "cell_type": "code",
   "execution_count": 4,
   "metadata": {},
   "outputs": [],
   "source": [
    "def ciecam02(image_xyz: np.ndarray, adapting_luminance: float, background_luminance: float) -> np.ndarray:\n",
    "    \"\"\"\n",
    "    Converts an XYZ image to simplified CIECAM02 attributes (lightness, chroma, hue).\n",
    "    \n",
    "    Args:\n",
    "        image_xyz (np.ndarray): Input image in XYZ color space (H x W x 3).\n",
    "        adapting_luminance (float): Luminance of the adapting field.\n",
    "        background_luminance (float): Luminance of the background field.\n",
    "    \n",
    "    Returns:\n",
    "        np.ndarray: Image with CIECAM02 attributes (lightness J, chroma C, hue h).\n",
    "    \"\"\"\n",
    "    # Constants for the CIECAM02 model\n",
    "    F = 1.0  # Surround factor for 'average'\n",
    "    n = background_luminance / adapting_luminance\n",
    "    N_bb = N_cb = 0.725 * (1 / n) ** 0.2\n",
    "    \n",
    "    # Conversion from XYZ to LMS (Long, Medium, Short cones)\n",
    "    M_CAT02 = np.array([[0.7328, 0.4296, -0.1624],\n",
    "                        [-0.7036, 1.6975, 0.0061],\n",
    "                        [0.0030, 0.0136, 0.9834]])\n",
    "    \n",
    "    h, w, _ = image_xyz.shape\n",
    "    image_lms = np.dot(image_xyz.reshape(-1, 3), M_CAT02.T).reshape(h, w, 3)\n",
    "\n",
    "    # Calculate the adapted cone responses\n",
    "    D = F * (1 - (1/3.6) * np.exp((-adapting_luminance - 42)/92))  # Discounting factor\n",
    "    LMS_a = D * image_lms + (1 - D) * image_lms.mean(axis=(0, 1))  # Adaptation\n",
    "\n",
    "    # Calculate lightness, chroma, and hue\n",
    "    A = (2 * LMS_a[..., 0] + LMS_a[..., 1] + (1/20) * LMS_a[..., 2]) * N_bb\n",
    "    J = 100 * (A / adapting_luminance) ** 0.5\n",
    "    C = 100 * (np.abs(LMS_a[..., 0] - LMS_a[..., 2]) / adapting_luminance)\n",
    "    h = np.degrees(np.arctan2(LMS_a[..., 1], LMS_a[..., 0]))\n",
    "\n",
    "    # Stack the results in an array\n",
    "    ciecam02_attributes = np.stack((J, C, h), axis=-1)\n",
    "    return ciecam02_attributes"
   ]
  },
  {
   "cell_type": "code",
   "execution_count": 9,
   "metadata": {},
   "outputs": [],
   "source": [
    "# Convert the image to perceptual attributes \n",
    "ciecam02_JCh = ciecam02(\n",
    "    image_xyz=image_xyz,\n",
    "    adapting_luminance=63,\n",
    "    background_luminance=25)"
   ]
  },
  {
   "cell_type": "code",
   "execution_count": 10,
   "metadata": {},
   "outputs": [],
   "source": [
    "def inv_ciecam02(ciecam02_attributes: np.ndarray, adapting_luminance: float, background_luminance: float) -> np.ndarray:\n",
    "    \"\"\"\n",
    "    Converts simplified CIECAM02 attributes (lightness, chroma, hue) back to the XYZ color space.\n",
    "    \n",
    "    Args:\n",
    "        ciecam02_attributes (np.ndarray): CIECAM02 attributes (H x W x 3).\n",
    "        adapting_luminance (float): Luminance of the adapting field.\n",
    "        background_luminance (float): Luminance of the background field.\n",
    "    \n",
    "    Returns:\n",
    "        np.ndarray: Reconstructed image in the XYZ color space.\n",
    "    \"\"\"\n",
    "    # Constants\n",
    "    F = 1.0  # Average surround\n",
    "    n = background_luminance / adapting_luminance\n",
    "    N_bb = N_cb = 0.725 * (1 / n) ** 0.2\n",
    "    \n",
    "    # Extract lightness (J), chroma (C), and hue (h)\n",
    "    J, C, h = ciecam02_attributes[..., 0], ciecam02_attributes[..., 1], ciecam02_attributes[..., 2]\n",
    "    \n",
    "    # Calculate achromatic response A from lightness J\n",
    "    A = (J / 100) ** 2 * adapting_luminance\n",
    "    \n",
    "    # Calculate adapted LMS values\n",
    "    LMS_a = np.zeros_like(ciecam02_attributes)\n",
    "    LMS_a[..., 0] = (A / (2 * N_bb))\n",
    "    LMS_a[..., 1] = C * np.sin(np.radians(h))\n",
    "    LMS_a[..., 2] = C * np.cos(np.radians(h))\n",
    "    \n",
    "    # Convert LMS back to XYZ\n",
    "    M_CAT02_inv = np.linalg.inv(\n",
    "        np.array([\n",
    "            [0.7328, 0.4296, -0.1624],\n",
    "            [-0.7036, 1.6975, 0.0061],\n",
    "            [0.0030, 0.0136, 0.9834]]))\n",
    "    \n",
    "    image_xyz = np.dot(\n",
    "        LMS_a.reshape(-1, 3), M_CAT02_inv.T).reshape(ciecam02_attributes.shape)\n",
    "    return np.clip(image_xyz, 0, 1)  # Clipping for valid range\n"
   ]
  },
  {
   "cell_type": "code",
   "execution_count": 11,
   "metadata": {},
   "outputs": [],
   "source": [
    "reconstructed_image_xyz = inv_ciecam02(\n",
    "    ciecam02_attributes=ciecam02_JCh,\n",
    "    adapting_luminance=63, \n",
    "    background_luminance=25)"
   ]
  },
  {
   "cell_type": "markdown",
   "metadata": {},
   "source": [
    "### Unit Test for CAM "
   ]
  },
  {
   "cell_type": "code",
   "execution_count": 12,
   "metadata": {},
   "outputs": [],
   "source": [
    "def create_test_image(height: int = 100, width: int = 300) -> np.ndarray:\n",
    "    \"\"\"\n",
    "    Creates a test image with color gradients and patches for testing.\n",
    "\n",
    "    Args:\n",
    "        height (int): Height of the test image.\n",
    "        width (int): Width of the test image.\n",
    "\n",
    "    Returns:\n",
    "        np.ndarray: Generated test image in RGB format.\n",
    "    \"\"\"\n",
    "    test_image = np.zeros((height, width, 3), dtype=np.uint8)\n",
    "\n",
    "    # Divide the image into three vertical sections\n",
    "    section_width = width // 3\n",
    "\n",
    "    # Red gradient\n",
    "    for i in range(section_width):\n",
    "        test_image[:, i] = [255 * (i / section_width), 0, 0]\n",
    "\n",
    "    # Green gradient\n",
    "    for i in range(section_width):\n",
    "        test_image[:, section_width + i] = [0, 255 * (i / section_width), 0]\n",
    "\n",
    "    # Blue gradient\n",
    "    for i in range(section_width):\n",
    "        test_image[:, 2 * section_width + i] = [0, 0, 255 * (i / section_width)]\n",
    "\n",
    "    return test_image"
   ]
  },
  {
   "cell_type": "code",
   "execution_count": null,
   "metadata": {},
   "outputs": [
    {
     "data": {
      "image/png": "[encoded data removed]",
      "text/plain": [
       "<Figure size 700x700 with 1 Axes>"
      ]
     },
     "metadata": {},
     "output_type": "display_data"
    }
   ],
   "source": [
    "test_image_rgb = create_test_image() \n",
    "plt.figure(figsize=(7, 7)) \n",
    "plt.imshow(test_image_rgb)\n",
    "plt.show()"
   ]
  },
  {
   "cell_type": "code",
   "execution_count": 16,
   "metadata": {},
   "outputs": [],
   "source": [
    "def test_ciecam02_transformations():\n",
    "    \"\"\"\n",
    "    Tests the XYZ to CIECAM02 and inverse transformations.\n",
    "    \"\"\"\n",
    "    # Create a test image\n",
    "    test_img_rgb = create_test_image()\n",
    "    \n",
    "    # Convert to float and scale to [0, 1]\n",
    "    test_img_rgb_float = test_img_rgb.astype(np.float32) / 255.0\n",
    "    \n",
    "    # Simulate device RGB to XYZ conversion (using a standard matrix for testing)\n",
    "    D65_WHITE = np.array([\n",
    "        [0.4124564, 0.3575761, 0.1804375],\n",
    "        [0.2126729, 0.7151522, 0.0721750],\n",
    "        [0.0193339, 0.1191920, 0.9503041]])\n",
    "    test_img_xyz = np.dot(test_img_rgb_float.reshape(-1, 3), D65_WHITE.T).reshape(test_img_rgb.shape)\n",
    "    \n",
    "    # Define luminance parameters for a dim surround\n",
    "    adapting_luminance = 20.0\n",
    "    background_luminance = 4.0\n",
    "    \n",
    "    # Apply the forward transformation\n",
    "    ciecam_attributes = ciecam02(test_img_xyz, adapting_luminance, background_luminance)\n",
    "    \n",
    "    # Ensure attributes are within valid ranges\n",
    "    assert np.all(ciecam_attributes >= 0), \"CIECAM02 attributes contain negative values!\"\n",
    "    \n",
    "    # Apply the inverse transformation\n",
    "    reconstructed_xyz = inv_ciecam02(ciecam_attributes, adapting_luminance, background_luminance)\n",
    "    \n",
    "    # Ensure values are within valid ranges\n",
    "    assert np.all(reconstructed_xyz >= 0), \"Reconstructed XYZ contains negative values!\"\n",
    "    \n",
    "    # Compare the reconstructed XYZ to the original\n",
    "    diff = np.abs(reconstructed_xyz - test_img_xyz)\n",
    "    assert np.mean(diff) < 0.005, \"Reconstructed XYZ differs significantly from the original!\"\n",
    "    \n",
    "    print(\"CIECAM02 transformations passed all tests!\")\n"
   ]
  }
 ],
 "metadata": {
  "kernelspec": {
   "display_name": "dip_venv",
   "language": "python",
   "name": "python3"
  },
  "language_info": {
   "codemirror_mode": {
    "name": "ipython",
    "version": 3
   },
   "file_extension": ".py",
   "mimetype": "text/x-python",
   "name": "python",
   "nbconvert_exporter": "python",
   "pygments_lexer": "ipython3",
   "version": "3.9.13"
  }
 },
 "nbformat": 4,
 "nbformat_minor": 2
}
